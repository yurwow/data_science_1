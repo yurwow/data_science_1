{
 "nbformat": 4,
 "nbformat_minor": 0,
 "metadata": {
  "colab": {
   "provenance": []
  },
  "kernelspec": {
   "name": "python3",
   "display_name": "Python 3"
  },
  "language_info": {
   "name": "python"
  }
 },
 "cells": [
  {
   "cell_type": "markdown",
   "source": [
    "<h1>Импорт библиотек"
   ],
   "metadata": {
    "id": "vC84e9kzyxPy"
   }
  },
  {
   "cell_type": "code",
   "execution_count": 2,
   "metadata": {
    "id": "cgKeNegmQG5S"
   },
   "outputs": [],
   "source": [
    "import numpy as np\n",
    "import matplotlib.pyplot as plt"
   ]
  },
  {
   "cell_type": "markdown",
   "source": [
    "<h1>Задача 1. Дан набор из $p$ матриц размерностью $(n, n)$ и $p$ векторов размерностью $(n, 1)$, найти сумму произведений матриц на векторы. Написать тесты для кода"
   ],
   "metadata": {
    "id": "qFM9uVU2x4Ls"
   }
  },
  {
   "cell_type": "code",
   "source": [
    "def sum_prod(X, V):\n",
    "    '''\n",
    "    X - матрицы (n, n)\n",
    "    V - векторы (n, 1)\n",
    "    Гарантируется, что len(X) == len(V)\n",
    "    '''\n",
    "    # Your code goes here\n",
    "    result = 0\n",
    "    for matrix, vector in zip(X, V):\n",
    "        result += np.dot(matrix, vector).flatten()[0]\n",
    "    return result\n",
    "matrix1 = np.array([[1, 2], [3, 4]])\n",
    "matrix2 = np.array([[5, 6], [7, 8]])\n",
    "vector1 = np.array([[1], [2]])\n",
    "vector2 = np.array([[3], [4]])\n",
    "print(sum_prod([matrix1, matrix2], [vector1, vector2]))"
   ],
   "metadata": {
    "id": "IAbUvEiYyWFF"
   },
   "execution_count": 3,
   "outputs": [
    {
     "name": "stdout",
     "output_type": "stream",
     "text": [
      "44\n"
     ]
    }
   ]
  },
  {
   "cell_type": "markdown",
   "source": [
    "<h1>Задача 2. Дана матрица M, напишите функцию, которая бинаризует матрицу по некоторому threshold (то есть, все значения большие threshold становятся равными 1, иначе 0). Напишите тесты для кода"
   ],
   "metadata": {
    "id": "TKwPG4fIy2w4"
   }
  },
  {
   "cell_type": "code",
   "source": [
    "def binarize(M, threshold=0.5):\n",
    "    # Your code goes here\n",
    "    binary_matrix = np.where(M > threshold, 1, 0)\n",
    "    return binary_matrix\n",
    "M = np.array([[0.2, 0.7, 0.9],\n",
    "              [0.3, 0.6, 0.8],\n",
    "              [0.1, 0.4, 0.5]])\n",
    "print(binarize(M))"
   ],
   "metadata": {
    "id": "KQDNMgsjRNH7"
   },
   "execution_count": 4,
   "outputs": [
    {
     "name": "stdout",
     "output_type": "stream",
     "text": [
      "[[0 1 1]\n",
      " [0 1 1]\n",
      " [0 0 0]]\n"
     ]
    }
   ]
  },
  {
   "cell_type": "markdown",
   "source": [
    "<h1>Задача 3. Напишите функцию, которая возвращает уникальные элементы из каждой строки матрицы. Напишите такую же функцию, но для столбцов. Напишите тесты для кода"
   ],
   "metadata": {
    "id": "IY5L-h-7zWhN"
   }
  },
  {
   "cell_type": "code",
   "source": [
    "import numpy as np\n",
    "def unique_elements_in_rows(matrix):\n",
    "    unique_rows = [np.unique(row) for row in matrix]\n",
    "    return unique_rows\n",
    "\n",
    "print(unique_elements_in_rows([[1, 1, 3],\n",
    "                       [4, 4, 6],\n",
    "                       [1, 2, 3],\n",
    "                       [4, 5, 6]]))"
   ],
   "metadata": {
    "id": "-8dEZhR0SBC-"
   },
   "execution_count": 12,
   "outputs": [
    {
     "name": "stdout",
     "output_type": "stream",
     "text": [
      "[array([1, 3]), array([4, 6]), array([1, 2, 3]), array([4, 5, 6])]\n"
     ]
    }
   ]
  },
  {
   "cell_type": "markdown",
   "source": [
    "<h1>Задача 4. Напишите функцию, которая заполняет матрицу с размерами $(m, n)$ случайными числами, распределенными по нормальному закону. Затем считает мат. ожидание и дисперсию для каждого из столбцов и строк, а также строит для каждой строки и столбца гистограмму значений (использовать функцию hist из модуля matplotlib.plot)"
   ],
   "metadata": {
    "id": "roYAlo4Jz-lH"
   }
  },
  {
   "cell_type": "code",
   "source": [
    "# Your code goes here"
   ],
   "metadata": {
    "id": "nZK_71hMSQzv"
   },
   "execution_count": null,
   "outputs": []
  },
  {
   "cell_type": "markdown",
   "source": [
    "<h1>Задача 5. Напишите функцию, которая заполняет матрицу $(m, n)$ в шахматном порядке заданными числами $a$ и $b$. Напишите тесты для кода"
   ],
   "metadata": {
    "id": "BDyATNdM0dJ2"
   }
  },
  {
   "cell_type": "code",
   "source": [
    "def chess(m, n, a, b):\n",
    "    if m % 2 != 0:\n",
    "        raise ValueError('Строки нечетные')\n",
    "    if n % 2 != 0:\n",
    "        raise ValueError('Столбцы нечетные')\n",
    "\n",
    "    board = np.zeros((m,n), dtype = int)\n",
    "    for i in range(m):\n",
    "        for j in range(n):\n",
    "            if (i+j) % 2 == 0:\n",
    "                board[i, j] = a\n",
    "            else: board[i,j] = b\n",
    "    return board\n",
    "print(chess(4,4,2,3))\n",
    "print(chess(5,5,3,2))"
   ],
   "metadata": {
    "id": "RWNJYWQGecS6"
   },
   "execution_count": 8,
   "outputs": [
    {
     "name": "stdout",
     "output_type": "stream",
     "text": [
      "[[2 3 2 3]\n",
      " [3 2 3 2]\n",
      " [2 3 2 3]\n",
      " [3 2 3 2]]\n"
     ]
    },
    {
     "ename": "ValueError",
     "evalue": "Строки нечетные",
     "output_type": "error",
     "traceback": [
      "\u001B[1;31m---------------------------------------------------------------------------\u001B[0m",
      "\u001B[1;31mValueError\u001B[0m                                Traceback (most recent call last)",
      "Cell \u001B[1;32mIn[8], line 15\u001B[0m\n\u001B[0;32m     13\u001B[0m     \u001B[38;5;28;01mreturn\u001B[39;00m board\n\u001B[0;32m     14\u001B[0m \u001B[38;5;28mprint\u001B[39m(chess(\u001B[38;5;241m4\u001B[39m,\u001B[38;5;241m4\u001B[39m,\u001B[38;5;241m2\u001B[39m,\u001B[38;5;241m3\u001B[39m))\n\u001B[1;32m---> 15\u001B[0m \u001B[38;5;28mprint\u001B[39m(\u001B[43mchess\u001B[49m\u001B[43m(\u001B[49m\u001B[38;5;241;43m5\u001B[39;49m\u001B[43m,\u001B[49m\u001B[38;5;241;43m5\u001B[39;49m\u001B[43m,\u001B[49m\u001B[38;5;241;43m3\u001B[39;49m\u001B[43m,\u001B[49m\u001B[38;5;241;43m2\u001B[39;49m\u001B[43m)\u001B[49m)\n",
      "Cell \u001B[1;32mIn[8], line 3\u001B[0m, in \u001B[0;36mchess\u001B[1;34m(m, n, a, b)\u001B[0m\n\u001B[0;32m      1\u001B[0m \u001B[38;5;28;01mdef\u001B[39;00m \u001B[38;5;21mchess\u001B[39m(m, n, a, b):\n\u001B[0;32m      2\u001B[0m     \u001B[38;5;28;01mif\u001B[39;00m m \u001B[38;5;241m%\u001B[39m \u001B[38;5;241m2\u001B[39m \u001B[38;5;241m!=\u001B[39m \u001B[38;5;241m0\u001B[39m:\n\u001B[1;32m----> 3\u001B[0m         \u001B[38;5;28;01mraise\u001B[39;00m \u001B[38;5;167;01mValueError\u001B[39;00m(\u001B[38;5;124m'\u001B[39m\u001B[38;5;124mСтроки нечетные\u001B[39m\u001B[38;5;124m'\u001B[39m)\n\u001B[0;32m      4\u001B[0m     \u001B[38;5;28;01mif\u001B[39;00m n \u001B[38;5;241m%\u001B[39m \u001B[38;5;241m2\u001B[39m \u001B[38;5;241m!=\u001B[39m \u001B[38;5;241m0\u001B[39m:\n\u001B[0;32m      5\u001B[0m         \u001B[38;5;28;01mraise\u001B[39;00m \u001B[38;5;167;01mValueError\u001B[39;00m(\u001B[38;5;124m'\u001B[39m\u001B[38;5;124mСтолбцы нечетные\u001B[39m\u001B[38;5;124m'\u001B[39m)\n",
      "\u001B[1;31mValueError\u001B[0m: Строки нечетные"
     ]
    }
   ]
  },
  {
   "cell_type": "markdown",
   "source": [
    "<h1>Задача 6. Напишите функцию, которая отрисовывает прямоугольник с заданными размерами (a, b) на изображении размера (m, n), цвет фона задайте в схеме RGB, как и цвет прямоугольника. Цвета также должны быть параметрами функции. Напишите аналогичную функцию но для овала с полуосями a и b. Напишите тесты для кода.\n",
    "Примечание: уравнение эллипса (границы овала) можно записать как:\n",
    "<h1>$\\frac{(x-x_0)^2}{a^2}+\\frac{(y-y_0)^2}{b^2}=1$"
   ],
   "metadata": {
    "id": "-ymXLtTN0vB6"
   }
  },
  {
   "cell_type": "code",
   "source": [
    "def draw_rectangle(a, b, m, n, rectangle_color, background_color):\n",
    "    # Your code goes here\n",
    "    pass\n",
    "\n",
    "def draw_ellipse(a, b, m, n, ellipse_color, background_color):\n",
    "    # Your code goes here\n",
    "    pass"
   ],
   "metadata": {
    "id": "sNfl1t_kfOF4"
   },
   "execution_count": 1,
   "outputs": []
  },
  {
   "cell_type": "markdown",
   "source": [
    "<h1>Задача 7. Дан некий временной ряд. Для данного ряда нужно найти его: математическое ожидание, дисперсию, СКО, найти все локальные максимумы и минимумы (локальный максимум - это точка, которая больше своих соседних точек, а локальный минимум - это точка, которая меньше своих соседей), а также вычислить для данного ряда другой ряд, получаемый методом скользящего среднего с размером окна $p$.\n",
    "<h1>Примечание: метод скользящего среднего подразумевает нахождение среднего из подмножетсва ряда размером $p$"
   ],
   "metadata": {
    "id": "S82c38oz244H"
   }
  },
  {
   "cell_type": "code",
   "source": [
    "# Your code goes here"
   ],
   "metadata": {
    "id": "Zb9mIVge5MMt"
   },
   "execution_count": null,
   "outputs": []
  },
  {
   "cell_type": "markdown",
   "source": [
    "<h1> Задача 8. Дан некоторый вектор с целочисленными метками классов, напишите функцию, которая выполняет one-hot-encoding для данного вектора\n",
    "<h1> One-hot-encoding - представление, в котором на месте метки некоторого класса стоит 1, в остальных позициях стоит 0. Например для вектора [0, 2, 3, 0] one-hot-encoding выглядит как: [[1, 0, 0, 0], [0, 0, 1, 0], [0, 0, 0, 1], [1, 0, 0, 0]]"
   ],
   "metadata": {
    "id": "jPkylmOX5O9n"
   }
  },
  {
   "cell_type": "code",
   "source": [
    "# Your code goes here"
   ],
   "metadata": {
    "id": "Y-jlnZvw56lD"
   },
   "execution_count": null,
   "outputs": []
  }
 ]
}
