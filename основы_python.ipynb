{
 "nbformat": 4,
 "nbformat_minor": 0,
 "metadata": {
  "colab": {
   "provenance": []
  },
  "kernelspec": {
   "name": "python3",
   "display_name": "Python 3"
  },
  "language_info": {
   "name": "python"
  }
 },
 "cells": [
  {
   "cell_type": "markdown",
   "source": [
    "#Задача 1\n",
    "Написать функцию на вход которой подается строка, состоящая из латинских букв.\n",
    "Функция должна вернуть количество гласных букв (a, e, i, o, u) в этой строке. Написать тесты для кода"
   ],
   "metadata": {
    "id": "M-DGa20PaHnu"
   }
  },
  {
   "cell_type": "code",
   "execution_count": 2,
   "outputs": [
    {
     "name": "stdout",
     "output_type": "stream",
     "text": [
      "4\n",
      "0\n",
      "3\n",
      "0\n"
     ]
    }
   ],
   "source": [
    "# Your code goes here\n",
    "def alphabit(s):\n",
    "    vowels = 'aeiouAEIOU'\n",
    "    count = 0\n",
    "    for char in s:\n",
    "        if char in vowels:\n",
    "            count += 1\n",
    "    return count\n",
    "\n",
    "print(alphabit('voleubal'))\n",
    "print(alphabit('thgmn'))\n",
    "print(alphabit('HELLO WORLD'))\n",
    "print(alphabit(''))"
   ],
   "metadata": {
    "collapsed": false
   }
  },
  {
   "cell_type": "markdown",
   "source": [
    "# Задача 2\n",
    "Написать функцию на вход, которой подается строка. Функция должна вернуть true, если\n",
    "каждый символ в строке встречается только 1 раз, иначе должна вернуть false. Написать тесты для кода"
   ],
   "metadata": {
    "collapsed": false
   }
  },
  {
   "cell_type": "code",
   "source": [
    "# Your code goes here\n",
    "def unique_chars(s):\n",
    "    seem = set()\n",
    "    for char in s:\n",
    "        if char in seem:\n",
    "            return False\n",
    "        seem.add(char)\n",
    "    return True\n",
    "print(unique_chars('valeyb'))\n",
    "print(unique_chars('hello'))\n",
    "print(unique_chars('true false'))"
   ],
   "metadata": {
    "id": "FppbECao6VIz"
   },
   "execution_count": 6,
   "outputs": [
    {
     "name": "stdout",
     "output_type": "stream",
     "text": [
      "True\n",
      "False\n",
      "False\n"
     ]
    }
   ]
  },
  {
   "cell_type": "markdown",
   "source": [
    "# Задача 3\n",
    "Написать функцию, которая принимает положительное число и возвращает количество\n",
    "бит равных 1 в этом числе. Написать тесты для кода"
   ],
   "metadata": {
    "id": "udRiIK1cdt6E"
   }
  },
  {
   "cell_type": "code",
   "source": [
    "# Your code goes here\n",
    "def count_bit(num):\n",
    "    count = 0\n",
    "    while num:\n",
    "        count += num & 1\n",
    "        num >>= 1\n",
    "    return count\n",
    "print(count_bit(5))\n",
    "print(count_bit(0))\n",
    "print(count_bit(55))\n",
    "print(count_bit(255))"
   ],
   "metadata": {
    "id": "6tkfDJRz6dp_"
   },
   "execution_count": 5,
   "outputs": [
    {
     "name": "stdout",
     "output_type": "stream",
     "text": [
      "2\n",
      "0\n",
      "5\n",
      "8\n"
     ]
    }
   ]
  },
  {
   "cell_type": "markdown",
   "source": [
    "# Задача 4\n",
    "Написать функцию, которая принимает положительное число. Функция должна вернуть то,\n",
    "сколько раз необходимо перемножать цифры числа или результат перемножения, чтобы\n",
    "получилось число состоящее из одной цифры.\n",
    "Например, для входного числа:\n",
    "· 39 функция должна вернуть 3, так как 3*9=27 => 2*7=14 => 1*4=4\n",
    "· 4 функция должна вернуть 0, так как число уже состоит из одной цифры\n",
    "· 999 функция должна вернуть 4, так как 9*9*9=729 => 7*2*9=126 => 1*2*6=12 =>\n",
    "1*2=2. Написать тесты для кода"
   ],
   "metadata": {
    "id": "26dDUz-Ae17N"
   }
  },
  {
   "cell_type": "code",
   "source": [
    "from functools import reduce\n",
    "def magic(n):\n",
    "    # Your code goes here\n",
    "    count = 0\n",
    "    while n > 9:\n",
    "        n = reduce(lambda x, y: x*int(y), str(n), 1)\n",
    "        count += 1\n",
    "    return count\n",
    "print(magic(999))\n",
    "print(magic(39))\n",
    "print(magic(4))"
   ],
   "metadata": {
    "id": "BH1A_Mgi6i4G"
   },
   "execution_count": 7,
   "outputs": [
    {
     "name": "stdout",
     "output_type": "stream",
     "text": [
      "4\n",
      "3\n",
      "0\n"
     ]
    }
   ]
  },
  {
   "cell_type": "markdown",
   "source": [
    "# Задача 5\n",
    "Написать функцию, которая принимает два целочисленных вектора одинаковой длины и\n",
    "возвращает среднеквадратическое отклонение двух векторов. Написать тесты для кода"
   ],
   "metadata": {
    "id": "0nS-kIa8g8vd"
   }
  },
  {
   "cell_type": "code",
   "source": [
    "import math\n",
    "def mse(pred, true):\n",
    "    if len(pred) != len(true):\n",
    "        raise ValueError('Вектора разной длины')\n",
    "\n",
    "    n = len(pred)\n",
    "    sum_vectors = sum((pred[i] - true[i]) ** 2 for i in range(n))\n",
    "    return math.sqrt(sum_vectors / n)\n",
    "print(mse([1, 2, 3], [4, 5, 6]))\n",
    "print(mse([-1, -2, -3], [1, 2, 3]))\n",
    "print(mse([0, 0, 0], [0, 0, 0]))"
   ],
   "metadata": {
    "id": "8iphx4LM6xbx"
   },
   "execution_count": 8,
   "outputs": [
    {
     "name": "stdout",
     "output_type": "stream",
     "text": [
      "3.0\n",
      "4.320493798938574\n",
      "0.0\n"
     ]
    }
   ]
  },
  {
   "cell_type": "markdown",
   "source": [
    "# Задача 6\n",
    "Написать функцию, принимающая целое положительное число. Функция должна вернуть\n",
    "строку вида “(n1**p1)(n2**p2)…(nk**pk)” представляющая разложение числа на простые\n",
    "множители (если pi == 1, то выводить только ni).\n",
    "Например, для числа 86240 функция должна вернуть “(2**5)(5)(7**2)(11)”. Написать тесты для кода"
   ],
   "metadata": {
    "id": "vpIPKL439zkw"
   }
  },
  {
   "cell_type": "code",
   "source": [
    "# Your code goes here\n",
    "def prime_factorization(n):\n",
    "    result = []\n",
    "    divisor = 2\n",
    "    while n > 1:\n",
    "        power = 0\n",
    "        while n % divisor == 0:\n",
    "            n //= divisor\n",
    "            power += 1\n",
    "        if power > 0:\n",
    "            if power == 1:\n",
    "                result.append(f\"({divisor})\")\n",
    "            else:\n",
    "                result.append(f\"({divisor}**{power})\")\n",
    "        divisor += 1\n",
    "    return ''.join(result)\n",
    "print(prime_factorization(86240))\n",
    "print(prime_factorization(100))\n",
    "print(prime_factorization(1000))\n",
    "print(prime_factorization(555))"
   ],
   "metadata": {
    "id": "pFebmcZk94Jw"
   },
   "execution_count": 10,
   "outputs": [
    {
     "name": "stdout",
     "output_type": "stream",
     "text": [
      "(2**5)(5)(7**2)(11)\n",
      "(2**2)(5**2)\n",
      "(2**3)(5**3)\n",
      "(3)(5)(37)\n"
     ]
    }
   ]
  },
  {
   "cell_type": "markdown",
   "source": [
    "# Задача 7\n",
    "Написать функцию, принимающая целое число n, задающее количество кубиков. Функция\n",
    "должна определить, можно ли из данного кол-ва кубиков построить пирамиду, то есть\n",
    "можно ли представить число n как 1^2+2^2+3^2+…+k^2. Если можно, то функция должна\n",
    "вернуть k, иначе строку “It is impossible”. Написать тесты для кода"
   ],
   "metadata": {
    "id": "ps2s0BudX7A2"
   }
  },
  {
   "cell_type": "code",
   "source": [
    "def pyramid(number):\n",
    "    # Your code goes here\n",
    "    sum_of_squares = 0\n",
    "    k = 1\n",
    "    while sum_of_squares < number:\n",
    "        sum_of_squares += k ** 2\n",
    "        k += 1\n",
    "    if sum_of_squares == number:\n",
    "        return k - 1\n",
    "    else:\n",
    "        return \"It is impossible\"\n",
    "\n",
    "print(pyramid(55))\n",
    "print(pyramid(44))\n",
    "print(pyramid(1))"
   ],
   "metadata": {
    "id": "3YPjEXxhX_YT"
   },
   "execution_count": 13,
   "outputs": [
    {
     "name": "stdout",
     "output_type": "stream",
     "text": [
      "5\n",
      "It is impossible\n",
      "1\n"
     ]
    }
   ]
  },
  {
   "cell_type": "markdown",
   "source": [
    "# Задача 8\n",
    "Функция принимает на вход положительное число и определяет является ли оно сбалансированным, т.е. сумма цифр до средних равна сумме цифр после. Средними в случае нечетного числа цифр считать одну цифру, в случае четного - две средних. Написать тесты для кода"
   ],
   "metadata": {
    "id": "KeKgmIdAQMEJ"
   }
  },
  {
   "cell_type": "code",
   "source": [
    "# Your code goes here\n",
    "def is_balanced_number(n):\n",
    "    digits = [int(d) for d in str(n)]\n",
    "    length = len(digits)\n",
    "\n",
    "    if length % 2 == 0:\n",
    "        first_half = sum(digits[:length // 2])\n",
    "        second_half = sum(digits[length // 2:])\n",
    "    else:\n",
    "        first_half = sum(digits[:length // 2])\n",
    "        second_half = sum(digits[length // 2 + 1:])\n",
    "\n",
    "    return first_half == second_half\n",
    "print(is_balanced_number(12321))\n",
    "print(is_balanced_number(12345))\n",
    "print(is_balanced_number(3))"
   ],
   "metadata": {
    "id": "gMAAqtqlQrZt"
   },
   "execution_count": 14,
   "outputs": [
    {
     "name": "stdout",
     "output_type": "stream",
     "text": [
      "True\n",
      "False\n",
      "True\n"
     ]
    }
   ]
  },
  {
   "cell_type": "code",
   "execution_count": null,
   "outputs": [],
   "source": [],
   "metadata": {
    "collapsed": false
   }
  }
 ]
}
